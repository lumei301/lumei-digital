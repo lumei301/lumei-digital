{
 "cells": [
  {
   "cell_type": "markdown",
   "metadata": {},
   "source": [
    "### Setup\n",
    "https://medium.com/@lumeilin301/optimized-a-promotional-campaign-by-using-uplift-models-and-machine-learning-3a01cf80eec1"
   ]
  },
  {
   "cell_type": "code",
   "execution_count": 1,
   "metadata": {},
   "outputs": [],
   "source": [
    "# Import libraries\n",
    "import numpy as np, matplotlib as mpl, matplotlib.pyplot as plt, pandas as pd\n",
    "import seaborn as sns, math, os, warnings \n",
    "warnings.filterwarnings('ignore')"
   ]
  },
  {
   "cell_type": "markdown",
   "metadata": {},
   "source": [
    "### Data Exploration"
   ]
  },
  {
   "cell_type": "code",
   "execution_count": 4,
   "metadata": {},
   "outputs": [
    {
     "name": "stdout",
     "output_type": "stream",
     "text": [
      "df shape: (64000, 9)\n"
     ]
    },
    {
     "data": {
      "text/html": [
       "<div>\n",
       "<style scoped>\n",
       "    .dataframe tbody tr th:only-of-type {\n",
       "        vertical-align: middle;\n",
       "    }\n",
       "\n",
       "    .dataframe tbody tr th {\n",
       "        vertical-align: top;\n",
       "    }\n",
       "\n",
       "    .dataframe thead th {\n",
       "        text-align: right;\n",
       "    }\n",
       "</style>\n",
       "<table border=\"1\" class=\"dataframe\">\n",
       "  <thead>\n",
       "    <tr style=\"text-align: right;\">\n",
       "      <th></th>\n",
       "      <th>recency</th>\n",
       "      <th>history</th>\n",
       "      <th>used_discount</th>\n",
       "      <th>used_bogo</th>\n",
       "      <th>zip_code</th>\n",
       "      <th>is_referral</th>\n",
       "      <th>channel</th>\n",
       "      <th>offer</th>\n",
       "      <th>conversion</th>\n",
       "    </tr>\n",
       "  </thead>\n",
       "  <tbody>\n",
       "    <tr>\n",
       "      <td>0</td>\n",
       "      <td>10</td>\n",
       "      <td>142.44</td>\n",
       "      <td>1</td>\n",
       "      <td>0</td>\n",
       "      <td>Surburban</td>\n",
       "      <td>0</td>\n",
       "      <td>Phone</td>\n",
       "      <td>Buy One Get One</td>\n",
       "      <td>0</td>\n",
       "    </tr>\n",
       "    <tr>\n",
       "      <td>1</td>\n",
       "      <td>6</td>\n",
       "      <td>329.08</td>\n",
       "      <td>1</td>\n",
       "      <td>1</td>\n",
       "      <td>Rural</td>\n",
       "      <td>1</td>\n",
       "      <td>Web</td>\n",
       "      <td>No Offer</td>\n",
       "      <td>0</td>\n",
       "    </tr>\n",
       "    <tr>\n",
       "      <td>2</td>\n",
       "      <td>7</td>\n",
       "      <td>180.65</td>\n",
       "      <td>0</td>\n",
       "      <td>1</td>\n",
       "      <td>Surburban</td>\n",
       "      <td>1</td>\n",
       "      <td>Web</td>\n",
       "      <td>Buy One Get One</td>\n",
       "      <td>0</td>\n",
       "    </tr>\n",
       "    <tr>\n",
       "      <td>3</td>\n",
       "      <td>9</td>\n",
       "      <td>675.83</td>\n",
       "      <td>1</td>\n",
       "      <td>0</td>\n",
       "      <td>Rural</td>\n",
       "      <td>1</td>\n",
       "      <td>Web</td>\n",
       "      <td>Discount</td>\n",
       "      <td>0</td>\n",
       "    </tr>\n",
       "    <tr>\n",
       "      <td>4</td>\n",
       "      <td>2</td>\n",
       "      <td>45.34</td>\n",
       "      <td>1</td>\n",
       "      <td>0</td>\n",
       "      <td>Urban</td>\n",
       "      <td>0</td>\n",
       "      <td>Web</td>\n",
       "      <td>Buy One Get One</td>\n",
       "      <td>0</td>\n",
       "    </tr>\n",
       "  </tbody>\n",
       "</table>\n",
       "</div>"
      ],
      "text/plain": [
       "   recency  history  used_discount  used_bogo   zip_code  is_referral channel  \\\n",
       "0       10   142.44              1          0  Surburban            0   Phone   \n",
       "1        6   329.08              1          1      Rural            1     Web   \n",
       "2        7   180.65              0          1  Surburban            1     Web   \n",
       "3        9   675.83              1          0      Rural            1     Web   \n",
       "4        2    45.34              1          0      Urban            0     Web   \n",
       "\n",
       "             offer  conversion  \n",
       "0  Buy One Get One           0  \n",
       "1         No Offer           0  \n",
       "2  Buy One Get One           0  \n",
       "3         Discount           0  \n",
       "4  Buy One Get One           0  "
      ]
     },
     "execution_count": 4,
     "metadata": {},
     "output_type": "execute_result"
    }
   ],
   "source": [
    "# Import data\n",
    "df = pd.read_csv('data.csv')\n",
    "print('df shape: {0}'.format(df.shape))\n",
    "df.head()"
   ]
  },
  {
   "cell_type": "code",
   "execution_count": 5,
   "metadata": {},
   "outputs": [
    {
     "name": "stdout",
     "output_type": "stream",
     "text": [
      "<class 'pandas.core.frame.DataFrame'>\n",
      "RangeIndex: 64000 entries, 0 to 63999\n",
      "Data columns (total 9 columns):\n",
      "recency          64000 non-null int64\n",
      "history          64000 non-null float64\n",
      "used_discount    64000 non-null int64\n",
      "used_bogo        64000 non-null int64\n",
      "zip_code         64000 non-null object\n",
      "is_referral      64000 non-null int64\n",
      "channel          64000 non-null object\n",
      "offer            64000 non-null object\n",
      "conversion       64000 non-null int64\n",
      "dtypes: float64(1), int64(5), object(3)\n",
      "memory usage: 4.4+ MB\n"
     ]
    }
   ],
   "source": [
    "# Checking for null data\n",
    "df.info()"
   ]
  },
  {
   "cell_type": "markdown",
   "metadata": {},
   "source": [
    "there is no null data in this dataset"
   ]
  },
  {
   "cell_type": "code",
   "execution_count": 8,
   "metadata": {},
   "outputs": [
    {
     "data": {
      "text/html": [
       "<div>\n",
       "<style scoped>\n",
       "    .dataframe tbody tr th:only-of-type {\n",
       "        vertical-align: middle;\n",
       "    }\n",
       "\n",
       "    .dataframe tbody tr th {\n",
       "        vertical-align: top;\n",
       "    }\n",
       "\n",
       "    .dataframe thead th {\n",
       "        text-align: right;\n",
       "    }\n",
       "</style>\n",
       "<table border=\"1\" class=\"dataframe\">\n",
       "  <thead>\n",
       "    <tr style=\"text-align: right;\">\n",
       "      <th></th>\n",
       "      <th>zip_code</th>\n",
       "      <th>channel</th>\n",
       "      <th>offer</th>\n",
       "    </tr>\n",
       "  </thead>\n",
       "  <tbody>\n",
       "    <tr>\n",
       "      <td>count</td>\n",
       "      <td>64000</td>\n",
       "      <td>64000</td>\n",
       "      <td>64000</td>\n",
       "    </tr>\n",
       "    <tr>\n",
       "      <td>unique</td>\n",
       "      <td>3</td>\n",
       "      <td>3</td>\n",
       "      <td>3</td>\n",
       "    </tr>\n",
       "    <tr>\n",
       "      <td>top</td>\n",
       "      <td>Surburban</td>\n",
       "      <td>Web</td>\n",
       "      <td>Buy One Get One</td>\n",
       "    </tr>\n",
       "    <tr>\n",
       "      <td>freq</td>\n",
       "      <td>28776</td>\n",
       "      <td>28217</td>\n",
       "      <td>21387</td>\n",
       "    </tr>\n",
       "  </tbody>\n",
       "</table>\n",
       "</div>"
      ],
      "text/plain": [
       "         zip_code channel            offer\n",
       "count       64000   64000            64000\n",
       "unique          3       3                3\n",
       "top     Surburban     Web  Buy One Get One\n",
       "freq        28776   28217            21387"
      ]
     },
     "execution_count": 8,
     "metadata": {},
     "output_type": "execute_result"
    }
   ],
   "source": [
    "# Checking for object data\n",
    "df.describe(include=np.object)"
   ]
  },
  {
   "cell_type": "code",
   "execution_count": 7,
   "metadata": {},
   "outputs": [
    {
     "name": "stdout",
     "output_type": "stream",
     "text": [
      "\n",
      " zip_code\n",
      "Surburban 28776\n",
      "Rural 9563\n",
      "Urban 25661\n",
      "\n",
      " channel\n",
      "Phone 28021\n",
      "Web 28217\n",
      "Multichannel 7762\n",
      "\n",
      " offer\n",
      "Buy One Get One 21387\n",
      "No Offer 21306\n",
      "Discount 21307\n"
     ]
    }
   ],
   "source": [
    "# Checking unique object data\n",
    "object_cols = [col for col in df.columns if df[col].dtype == \"object\"]\n",
    "for obj in object_cols:\n",
    "    print('\\n', obj)\n",
    "    for unique in df[obj].unique():\n",
    "        print(\"{} {}\".format(unique,sum(df[obj] == unique)))"
   ]
  },
  {
   "cell_type": "markdown",
   "metadata": {},
   "source": [
    "### Data Preprocessing"
   ]
  },
  {
   "cell_type": "code",
   "execution_count": 10,
   "metadata": {},
   "outputs": [],
   "source": [
    "# label for classifier\n",
    "df['campaign_group'] = 'treatment'\n",
    " \n",
    "df.loc[df.offer == 'No Offer', 'campaign_group'] = 'control'\n",
    "\n",
    "#0 = CN: Control Non-Responders\n",
    "df['target_class'] = 0\n",
    "\n",
    "#1 = CR: Control Responders\n",
    "df.loc[(df.campaign_group == 'control') & (df.conversion > 0),'target_class'] = 1\n",
    "\n",
    "#2 = TN: Treatment Non-Responders\n",
    "df.loc[(df.campaign_group == 'treatment') & (df.conversion == 0),'target_class'] = 2\n",
    "\n",
    "#3 = TR: Treatment Responders\n",
    "df.loc[(df.campaign_group == 'treatment') & (df.conversion > 0),'target_class'] = 3"
   ]
  },
  {
   "cell_type": "markdown",
   "metadata": {},
   "source": [
    "### Modeling"
   ]
  },
  {
   "cell_type": "code",
   "execution_count": 13,
   "metadata": {},
   "outputs": [],
   "source": [
    "from sklearn.cluster import KMeans\n",
    "\n",
    "#creating clusters\n",
    "kmeans = KMeans(n_clusters=4)\n",
    "kmeans.fit(df[['history']])\n",
    "df['history_cluster'] = kmeans.predict(df[['history']])"
   ]
  },
  {
   "cell_type": "code",
   "execution_count": 14,
   "metadata": {},
   "outputs": [],
   "source": [
    "#dropping unnecessary columns\n",
    "df_model = df.drop(['offer','campaign_group','conversion'],axis=1) \n",
    "df_model = pd.get_dummies(df_model)"
   ]
  },
  {
   "cell_type": "code",
   "execution_count": 17,
   "metadata": {},
   "outputs": [],
   "source": [
    "import sklearn\n",
    "import xgboost as xgb\n",
    "from sklearn.model_selection import KFold, cross_val_score, train_test_split\n",
    "\n",
    "#create feature set and labels\n",
    "X = df_model.drop(['target_class'],axis=1)\n",
    "y = df_model.target_class#splitting train and test groups\n",
    "X_train, X_test, y_train, y_test = train_test_split(X, y, test_size=0.3, random_state=23)"
   ]
  },
  {
   "cell_type": "code",
   "execution_count": 18,
   "metadata": {},
   "outputs": [],
   "source": [
    "#fitting the model and predicting the probabilities\n",
    "xgb_model = xgb.XGBClassifier().fit(X_train, y_train)\n",
    "class_probs = xgb_model.predict_proba(X_test)"
   ]
  },
  {
   "cell_type": "code",
   "execution_count": 19,
   "metadata": {},
   "outputs": [
    {
     "data": {
      "text/html": [
       "<div>\n",
       "<style scoped>\n",
       "    .dataframe tbody tr th:only-of-type {\n",
       "        vertical-align: middle;\n",
       "    }\n",
       "\n",
       "    .dataframe tbody tr th {\n",
       "        vertical-align: top;\n",
       "    }\n",
       "\n",
       "    .dataframe thead th {\n",
       "        text-align: right;\n",
       "    }\n",
       "</style>\n",
       "<table border=\"1\" class=\"dataframe\">\n",
       "  <thead>\n",
       "    <tr style=\"text-align: right;\">\n",
       "      <th></th>\n",
       "      <th>recency</th>\n",
       "      <th>history</th>\n",
       "      <th>used_discount</th>\n",
       "      <th>used_bogo</th>\n",
       "      <th>zip_code</th>\n",
       "      <th>is_referral</th>\n",
       "      <th>channel</th>\n",
       "      <th>offer</th>\n",
       "      <th>conversion</th>\n",
       "      <th>campaign_group</th>\n",
       "      <th>target_class</th>\n",
       "      <th>history_cluster</th>\n",
       "      <th>uplift_score</th>\n",
       "    </tr>\n",
       "  </thead>\n",
       "  <tbody>\n",
       "    <tr>\n",
       "      <td>0</td>\n",
       "      <td>10</td>\n",
       "      <td>142.44</td>\n",
       "      <td>1</td>\n",
       "      <td>0</td>\n",
       "      <td>Surburban</td>\n",
       "      <td>0</td>\n",
       "      <td>Phone</td>\n",
       "      <td>Buy One Get One</td>\n",
       "      <td>0</td>\n",
       "      <td>treatment</td>\n",
       "      <td>2</td>\n",
       "      <td>1</td>\n",
       "      <td>0.066555</td>\n",
       "    </tr>\n",
       "    <tr>\n",
       "      <td>1</td>\n",
       "      <td>6</td>\n",
       "      <td>329.08</td>\n",
       "      <td>1</td>\n",
       "      <td>1</td>\n",
       "      <td>Rural</td>\n",
       "      <td>1</td>\n",
       "      <td>Web</td>\n",
       "      <td>No Offer</td>\n",
       "      <td>0</td>\n",
       "      <td>control</td>\n",
       "      <td>0</td>\n",
       "      <td>3</td>\n",
       "      <td>0.140476</td>\n",
       "    </tr>\n",
       "    <tr>\n",
       "      <td>2</td>\n",
       "      <td>7</td>\n",
       "      <td>180.65</td>\n",
       "      <td>0</td>\n",
       "      <td>1</td>\n",
       "      <td>Surburban</td>\n",
       "      <td>1</td>\n",
       "      <td>Web</td>\n",
       "      <td>Buy One Get One</td>\n",
       "      <td>0</td>\n",
       "      <td>treatment</td>\n",
       "      <td>2</td>\n",
       "      <td>1</td>\n",
       "      <td>0.145965</td>\n",
       "    </tr>\n",
       "    <tr>\n",
       "      <td>3</td>\n",
       "      <td>9</td>\n",
       "      <td>675.83</td>\n",
       "      <td>1</td>\n",
       "      <td>0</td>\n",
       "      <td>Rural</td>\n",
       "      <td>1</td>\n",
       "      <td>Web</td>\n",
       "      <td>Discount</td>\n",
       "      <td>0</td>\n",
       "      <td>treatment</td>\n",
       "      <td>2</td>\n",
       "      <td>0</td>\n",
       "      <td>0.131215</td>\n",
       "    </tr>\n",
       "    <tr>\n",
       "      <td>4</td>\n",
       "      <td>2</td>\n",
       "      <td>45.34</td>\n",
       "      <td>1</td>\n",
       "      <td>0</td>\n",
       "      <td>Urban</td>\n",
       "      <td>0</td>\n",
       "      <td>Web</td>\n",
       "      <td>Buy One Get One</td>\n",
       "      <td>0</td>\n",
       "      <td>treatment</td>\n",
       "      <td>2</td>\n",
       "      <td>1</td>\n",
       "      <td>0.138555</td>\n",
       "    </tr>\n",
       "  </tbody>\n",
       "</table>\n",
       "</div>"
      ],
      "text/plain": [
       "   recency  history  used_discount  used_bogo   zip_code  is_referral channel  \\\n",
       "0       10   142.44              1          0  Surburban            0   Phone   \n",
       "1        6   329.08              1          1      Rural            1     Web   \n",
       "2        7   180.65              0          1  Surburban            1     Web   \n",
       "3        9   675.83              1          0      Rural            1     Web   \n",
       "4        2    45.34              1          0      Urban            0     Web   \n",
       "\n",
       "             offer  conversion campaign_group  target_class  history_cluster  \\\n",
       "0  Buy One Get One           0      treatment             2                1   \n",
       "1         No Offer           0        control             0                3   \n",
       "2  Buy One Get One           0      treatment             2                1   \n",
       "3         Discount           0      treatment             2                0   \n",
       "4  Buy One Get One           0      treatment             2                1   \n",
       "\n",
       "   uplift_score  \n",
       "0      0.066555  \n",
       "1      0.140476  \n",
       "2      0.145965  \n",
       "3      0.131215  \n",
       "4      0.138555  "
      ]
     },
     "execution_count": 19,
     "metadata": {},
     "output_type": "execute_result"
    }
   ],
   "source": [
    "proba = xgb_model.predict_proba(df_model.drop(['target_class'],axis=1))\n",
    "df_model['proba_CN'] = proba[:,0] \n",
    "df_model['proba_CR'] = proba[:,1] \n",
    "df_model['proba_TN'] = proba[:,2] \n",
    "df_model['proba_TR'] = proba[:,3]\n",
    "\n",
    "#calculate uplift score for customers\n",
    "df_model['uplift_score'] = df_model.eval('\\\n",
    "    proba_CN/(proba_CN+proba_CR) \\\n",
    "    + proba_TR/(proba_TN+proba_TR) \\\n",
    "    - proba_TN/(proba_TN+proba_TR) \\\n",
    "    - proba_CR/(proba_CN+proba_CR)')\n",
    "\n",
    "#assign it back to main dataframe\n",
    "df['uplift_score'] = df_model['uplift_score']\n",
    "df.head()"
   ]
  },
  {
   "cell_type": "markdown",
   "metadata": {},
   "source": [
    "### Evaluation - QINI Curve\n",
    "Qini is a generalization of gini curve for Uplift model, introduced by Radcliffe. The QINI (Uplift value) can be calculated as:\n",
    "1. QINI = TR - [(CR*T)/C]\n",
    "\n",
    "Thus can be normalized in percentage as:\n",
    "2. QINI = (TR/T) - (CR/C)"
   ]
  },
  {
   "cell_type": "code",
   "execution_count": 21,
   "metadata": {},
   "outputs": [
    {
     "data": {
      "text/html": [
       "<div>\n",
       "<style scoped>\n",
       "    .dataframe tbody tr th:only-of-type {\n",
       "        vertical-align: middle;\n",
       "    }\n",
       "\n",
       "    .dataframe tbody tr th {\n",
       "        vertical-align: top;\n",
       "    }\n",
       "\n",
       "    .dataframe thead th {\n",
       "        text-align: right;\n",
       "    }\n",
       "</style>\n",
       "<table border=\"1\" class=\"dataframe\">\n",
       "  <thead>\n",
       "    <tr style=\"text-align: right;\">\n",
       "      <th></th>\n",
       "      <th>n</th>\n",
       "      <th>target_class</th>\n",
       "      <th>uplift_score</th>\n",
       "    </tr>\n",
       "  </thead>\n",
       "  <tbody>\n",
       "    <tr>\n",
       "      <td>0</td>\n",
       "      <td>0.000016</td>\n",
       "      <td>3</td>\n",
       "      <td>0.569834</td>\n",
       "    </tr>\n",
       "    <tr>\n",
       "      <td>1</td>\n",
       "      <td>0.000031</td>\n",
       "      <td>3</td>\n",
       "      <td>0.562316</td>\n",
       "    </tr>\n",
       "    <tr>\n",
       "      <td>2</td>\n",
       "      <td>0.000047</td>\n",
       "      <td>3</td>\n",
       "      <td>0.525927</td>\n",
       "    </tr>\n",
       "    <tr>\n",
       "      <td>3</td>\n",
       "      <td>0.000063</td>\n",
       "      <td>2</td>\n",
       "      <td>0.517700</td>\n",
       "    </tr>\n",
       "    <tr>\n",
       "      <td>4</td>\n",
       "      <td>0.000078</td>\n",
       "      <td>3</td>\n",
       "      <td>0.506106</td>\n",
       "    </tr>\n",
       "  </tbody>\n",
       "</table>\n",
       "</div>"
      ],
      "text/plain": [
       "          n  target_class  uplift_score\n",
       "0  0.000016             3      0.569834\n",
       "1  0.000031             3      0.562316\n",
       "2  0.000047             3      0.525927\n",
       "3  0.000063             2      0.517700\n",
       "4  0.000078             3      0.506106"
      ]
     },
     "execution_count": 21,
     "metadata": {},
     "output_type": "execute_result"
    }
   ],
   "source": [
    "# Creat new dataframe\n",
    "ranked = pd.DataFrame({'n':[], 'target_class':[]})\n",
    "ranked['target_class'] = df['target_class']\n",
    "ranked['uplift_score'] = df['uplift_score']\n",
    "\n",
    "# Add proportion\n",
    "ranked['n'] = ranked.uplift_score.rank(pct=True, ascending=False)\n",
    "\n",
    "# Data Ranking \n",
    "ranked = ranked.sort_values(by='n').reset_index(drop=True)\n",
    "ranked.head()"
   ]
  },
  {
   "cell_type": "code",
   "execution_count": 22,
   "metadata": {},
   "outputs": [],
   "source": [
    "uplift_model, random_model = ranked.copy(), ranked.copy()\n",
    "\n",
    "# Using Treatment and Control Group to calculate the uplift (Incremental gain)\n",
    "C, T = sum(ranked['target_class'] <= 1), sum(ranked['target_class'] >= 2)\n",
    "ranked['cr'] = 0\n",
    "ranked['tr'] = 0\n",
    "\n",
    "ranked.loc[ranked.target_class == 1,'cr'] = 1\n",
    "ranked.loc[ranked.target_class == 3,'tr'] = 1\n",
    "ranked['cr/c'] = ranked.cr.cumsum() / C\n",
    "ranked['tr/t'] = ranked.tr.cumsum() / T\n",
    "\n",
    "# Calculate and put the uplift and random value into dataframe\n",
    "uplift_model['uplift'] = round(ranked['tr/t'] - ranked['cr/c'],5)\n",
    "random_model['uplift'] = round(ranked['n'] * uplift_model['uplift'].iloc[-1],5)\n",
    "\n",
    "# Add q0\n",
    "q0 = pd.DataFrame({'n':0, 'uplift':0, 'target_class': None}, index =[0])\n",
    "\n",
    "uplift_model = pd.concat([q0, uplift_model]).reset_index(drop = True)\n",
    "random_model = pd.concat([q0, random_model]).reset_index(drop = True)  \n",
    "\n",
    "# Add model name & concat\n",
    "uplift_model['model'] = 'Uplift model'\n",
    "random_model['model'] = 'Random model'\n",
    "merged = pd.concat([uplift_model, random_model]).sort_values(by='n').reset_index(drop = True)"
   ]
  },
  {
   "cell_type": "code",
   "execution_count": 23,
   "metadata": {},
   "outputs": [
    {
     "data": {
      "image/png": "[encoded data removed]",
      "text/plain": [
       "<Figure size 432x288 with 1 Axes>"
      ]
     },
     "metadata": {
      "needs_background": "light"
     },
     "output_type": "display_data"
    }
   ],
   "source": [
    "ax = sns.lineplot(x='n', y='uplift', hue='model', data=merged,\n",
    "                      style='model', palette=['red','grey'])\n",
    "\n",
    "# Plot settings\n",
    "sns.set_style('whitegrid')\n",
    "handles, labels = ax.get_legend_handles_labels()\n",
    "plt.xlabel('Proportion targeted',fontsize=15)\n",
    "plt.ylabel('Uplift',fontsize=15)\n",
    "plt.subplots_adjust(right=1)\n",
    "plt.subplots_adjust(top=1)\n",
    "plt.legend(fontsize=12)\n",
    "ax.tick_params(labelsize=15)\n",
    "ax.legend(handles=handles[1:], labels=labels[1:], loc='upper right')"
   ]
  },
  {
   "cell_type": "markdown",
   "metadata": {},
   "source": [
    "### Result\n",
    "The QINI curve visualizes the performance of the Uplift model and it show that the Uplift model can give more uplift than random model (without model)."
   ]
  },
  {
   "cell_type": "code",
   "execution_count": null,
   "metadata": {},
   "outputs": [],
   "source": []
  }
 ],
 "metadata": {
  "kernelspec": {
   "display_name": "Python 3",
   "language": "python",
   "name": "python3"
  },
  "language_info": {
   "codemirror_mode": {
    "name": "ipython",
    "version": 3
   },
   "file_extension": ".py",
   "mimetype": "text/x-python",
   "name": "python",
   "nbconvert_exporter": "python",
   "pygments_lexer": "ipython3",
   "version": "3.7.3"
  }
 },
 "nbformat": 4,
 "nbformat_minor": 2
}
